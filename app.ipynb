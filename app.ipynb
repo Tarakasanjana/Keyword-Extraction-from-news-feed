{
 "cells": [
  {
   "cell_type": "code",
   "execution_count": null,
   "metadata": {},
   "outputs": [
    {
     "name": "stdout",
     "output_type": "stream",
     "text": [
      " * Serving Flask app \"__main__\" (lazy loading)\n",
      " * Environment: production\n",
      "   WARNING: This is a development server. Do not use it in a production deployment.\n",
      "   Use a production WSGI server instead.\n",
      " * Debug mode: off\n"
     ]
    },
    {
     "name": "stderr",
     "output_type": "stream",
     "text": [
      " * Running on http://127.0.0.1:5000/ (Press CTRL+C to quit)\n",
      "127.0.0.1 - - [03/Jun/2021 22:15:03] \"\u001b[37mGET / HTTP/1.1\u001b[0m\" 200 -\n",
      "127.0.0.1 - - [03/Jun/2021 22:15:04] \"\u001b[37mGET /extractor HTTP/1.1\u001b[0m\" 200 -\n"
     ]
    },
    {
     "name": "stdout",
     "output_type": "stream",
     "text": [
      "<class 'type'>\n",
      "Donald John Trump (born June 14, 1946) is the 45th and current president of the United States. Before entering politics, he was a businessman and television personality. Born and raised in Queens, New York City, Trump attended Fordham University for two years and received a bachelor's degree in economics from the Wharton School of the University of Pennsylvania. He became president of his father's real estate business in 1971, renamed it The Trump Organization, and expanded its operations to building or renovating skyscrapers, hotels, casinos, and golf courses. Trump later started various side ventures, mostly by licensing his name. Trump and his businesses have been involved in more than 4,000 state and federal legal actions, including six bankruptcies. He owned the Miss Universe brand of beauty pageants from 1996 to 2015, and produced and hosted the reality television series The Apprentice from 2003 to 2015. Trump's political positions have been described as populist, protectionist, isolationist, and nationalist. He entered the 2016 presidential race as a Republican and was elected in a surprise electoral college victory over Democratic nominee Hillary Clinton while losing the popular vote.[a] He became the oldest first-term U.S. president[b] and the first without prior military or government service. His election and policies have sparked numerous protests. Trump has made many false or misleading statements during his campaign and presidency. The statements have been documented by fact-checkers, and the media have widely described the phenomenon as unprecedented in American politics. Many of his comments and actions have been characterized as racially charged or racist.\n",
      "<class 'str'>\n",
      "Donald John Trump  born June   ,       is the   th and current president of the United States. Before entering politics, he was a businessman and television personality. Born and raised in Queens, New York City, Trump attended Fordham University for two years and received a bachelor s degree in economics from the Wharton School of the University of Pennsylvania. He became president of his father s real estate business in     , renamed it The Trump Organization, and expanded its operations to building or renovating skyscrapers, hotels, casinos, and golf courses. Trump later started various side ventures, mostly by licensing his name. Trump and his businesses have been involved in more than  ,    state and federal legal actions, including six bankruptcies. He owned the Miss Universe brand of beauty pageants from      to     , and produced and hosted the reality television series The Apprentice from      to     . Trump s political positions have been described as populist, protectionist, isolationist, and nationalist. He entered the      presidential race as a Republican and was elected in a surprise electoral college victory over Democratic nominee Hillary Clinton while losing the popular vote. a  He became the oldest first term U.S. president b  and the first without prior military or government service. His election and policies have sparked numerous protests. Trump has made many false or misleading statements during his campaign and presidency. The statements have been documented by fact checkers, and the media have widely described the phenomenon as unprecedented in American politics. Many of his comments and actions have been characterized as racially charged or racist.\n"
     ]
    },
    {
     "name": "stderr",
     "output_type": "stream",
     "text": [
      "127.0.0.1 - - [03/Jun/2021 22:15:46] \"\u001b[37mPOST /keywords HTTP/1.1\u001b[0m\" 200 -\n"
     ]
    },
    {
     "name": "stdout",
     "output_type": "stream",
     "text": [
      "[{'text': 'Donald John Trump  born June   ,       is the   th and current president of the United States. Before entering politics, he was a businessman and television personality. Born and raised in Queens, New York City, Trump attended Fordham University for two years and received a bachelor s degree in economics from the Wharton School of the University of Pennsylvania. He became president of his father s real estate business in     , renamed it The Trump Organization, and expanded its operations to building or renovating skyscrapers, hotels, casinos, and golf courses. Trump later started various side ventures, mostly by licensing his name. Trump and his businesses have been involved in more than  ,    state and federal legal actions, including six bankruptcies. He owned the Miss Universe brand of beauty pageants from      to     , and produced and hosted the reality television series The Apprentice from      to     . Trump s political positions have been described as populist, protectionist, isolationist, and nationalist. He entered the      presidential race as a Republican and was elected in a surprise electoral college victory over Democratic nominee Hillary Clinton while losing the popular vote. a  He became the oldest first term U.S. president b  and the first without prior military or government service. His election and policies have sparked numerous protests. Trump has made many false or misleading statements during his campaign and presidency. The statements have been documented by fact checkers, and the media have widely described the phenomenon as unprecedented in American politics. Many of his comments and actions have been characterized as racially charged or racist.', 'external_id': None, 'error': False, 'extractions': [{'tag_name': 'KEYWORD', 'parsed_value': 'trump', 'count': 7, 'relevance': '0.980', 'positions_in_text': [12, 212, 446, 568, 641, 924, 1383]}, {'tag_name': 'KEYWORD', 'parsed_value': 'reality television series', 'count': 1, 'relevance': '0.588', 'positions_in_text': [864]}, {'tag_name': 'KEYWORD', 'parsed_value': 'university of pennsylvania', 'count': 1, 'relevance': '0.588', 'positions_in_text': [337]}, {'tag_name': 'KEYWORD', 'parsed_value': 'oldest first terms', 'count': 1, 'relevance': '0.588', 'positions_in_text': [1229]}, {'tag_name': 'KEYWORD', 'parsed_value': 'new york city', 'count': 1, 'relevance': '0.588', 'positions_in_text': [197]}, {'tag_name': 'KEYWORD', 'parsed_value': 'miss universe brand', 'count': 1, 'relevance': '0.588', 'positions_in_text': [778]}, {'tag_name': 'KEYWORD', 'parsed_value': 'federal legal action', 'count': 1, 'relevance': '0.588', 'positions_in_text': [714]}, {'tag_name': 'KEYWORD', 'parsed_value': 'real estate business', 'count': 1, 'relevance': '0.588', 'positions_in_text': [401]}, {'tag_name': 'KEYWORD', 'parsed_value': 'sparked numerous protest', 'count': 1, 'relevance': '0.588', 'positions_in_text': [1356]}, {'tag_name': 'KEYWORD', 'parsed_value': 'donald john trump', 'count': 1, 'relevance': '0.588', 'positions_in_text': [0]}]}]\n",
      "{'text': 'Donald John Trump  born June   ,       is the   th and current president of the United States. Before entering politics, he was a businessman and television personality. Born and raised in Queens, New York City, Trump attended Fordham University for two years and received a bachelor s degree in economics from the Wharton School of the University of Pennsylvania. He became president of his father s real estate business in     , renamed it The Trump Organization, and expanded its operations to building or renovating skyscrapers, hotels, casinos, and golf courses. Trump later started various side ventures, mostly by licensing his name. Trump and his businesses have been involved in more than  ,    state and federal legal actions, including six bankruptcies. He owned the Miss Universe brand of beauty pageants from      to     , and produced and hosted the reality television series The Apprentice from      to     . Trump s political positions have been described as populist, protectionist, isolationist, and nationalist. He entered the      presidential race as a Republican and was elected in a surprise electoral college victory over Democratic nominee Hillary Clinton while losing the popular vote. a  He became the oldest first term U.S. president b  and the first without prior military or government service. His election and policies have sparked numerous protests. Trump has made many false or misleading statements during his campaign and presidency. The statements have been documented by fact checkers, and the media have widely described the phenomenon as unprecedented in American politics. Many of his comments and actions have been characterized as racially charged or racist.', 'external_id': None, 'error': False, 'extractions': [{'tag_name': 'KEYWORD', 'parsed_value': 'trump', 'count': 7, 'relevance': '0.980', 'positions_in_text': [12, 212, 446, 568, 641, 924, 1383]}, {'tag_name': 'KEYWORD', 'parsed_value': 'reality television series', 'count': 1, 'relevance': '0.588', 'positions_in_text': [864]}, {'tag_name': 'KEYWORD', 'parsed_value': 'university of pennsylvania', 'count': 1, 'relevance': '0.588', 'positions_in_text': [337]}, {'tag_name': 'KEYWORD', 'parsed_value': 'oldest first terms', 'count': 1, 'relevance': '0.588', 'positions_in_text': [1229]}, {'tag_name': 'KEYWORD', 'parsed_value': 'new york city', 'count': 1, 'relevance': '0.588', 'positions_in_text': [197]}, {'tag_name': 'KEYWORD', 'parsed_value': 'miss universe brand', 'count': 1, 'relevance': '0.588', 'positions_in_text': [778]}, {'tag_name': 'KEYWORD', 'parsed_value': 'federal legal action', 'count': 1, 'relevance': '0.588', 'positions_in_text': [714]}, {'tag_name': 'KEYWORD', 'parsed_value': 'real estate business', 'count': 1, 'relevance': '0.588', 'positions_in_text': [401]}, {'tag_name': 'KEYWORD', 'parsed_value': 'sparked numerous protest', 'count': 1, 'relevance': '0.588', 'positions_in_text': [1356]}, {'tag_name': 'KEYWORD', 'parsed_value': 'donald john trump', 'count': 1, 'relevance': '0.588', 'positions_in_text': [0]}]}\n",
      "<class 'dict'>\n",
      "[{'tag_name': 'KEYWORD', 'parsed_value': 'trump', 'count': 7, 'relevance': '0.980', 'positions_in_text': [12, 212, 446, 568, 641, 924, 1383]}, {'tag_name': 'KEYWORD', 'parsed_value': 'reality television series', 'count': 1, 'relevance': '0.588', 'positions_in_text': [864]}, {'tag_name': 'KEYWORD', 'parsed_value': 'university of pennsylvania', 'count': 1, 'relevance': '0.588', 'positions_in_text': [337]}, {'tag_name': 'KEYWORD', 'parsed_value': 'oldest first terms', 'count': 1, 'relevance': '0.588', 'positions_in_text': [1229]}, {'tag_name': 'KEYWORD', 'parsed_value': 'new york city', 'count': 1, 'relevance': '0.588', 'positions_in_text': [197]}, {'tag_name': 'KEYWORD', 'parsed_value': 'miss universe brand', 'count': 1, 'relevance': '0.588', 'positions_in_text': [778]}, {'tag_name': 'KEYWORD', 'parsed_value': 'federal legal action', 'count': 1, 'relevance': '0.588', 'positions_in_text': [714]}, {'tag_name': 'KEYWORD', 'parsed_value': 'real estate business', 'count': 1, 'relevance': '0.588', 'positions_in_text': [401]}, {'tag_name': 'KEYWORD', 'parsed_value': 'sparked numerous protest', 'count': 1, 'relevance': '0.588', 'positions_in_text': [1356]}, {'tag_name': 'KEYWORD', 'parsed_value': 'donald john trump', 'count': 1, 'relevance': '0.588', 'positions_in_text': [0]}]\n",
      "<class 'list'>\n",
      "trump\n",
      "reality television series\n",
      "university of pennsylvania\n",
      "oldest first terms\n",
      "new york city\n",
      "miss universe brand\n",
      "federal legal action\n",
      "real estate business\n",
      "sparked numerous protest\n",
      "donald john trump\n",
      "['trump', 'reality television series', 'university of pennsylvania', 'oldest first terms', 'new york city', 'miss universe brand', 'federal legal action', 'real estate business', 'sparked numerous protest', 'donald john trump']\n"
     ]
    }
   ],
   "source": [
    "from monkeylearn import MonkeyLearn\n",
    "from flask import Flask, request, render_template\n",
    "import re\n",
    "import requests\n",
    "\n",
    "app = Flask(__name__)\n",
    "\n",
    "\n",
    "#home page\n",
    "@app.route('/')\n",
    "def home():\n",
    "    return render_template('home.html')\n",
    "\n",
    "#home page\n",
    "@app.route('/extractor')\n",
    "def extractor():\n",
    "    return render_template('extractor.html')\n",
    "\n",
    "#extractor page\n",
    "@app.route('/keywords',  methods=['POST'])\n",
    "def keywords():\n",
    "    ml = MonkeyLearn('d638287346fb2716398ec8eba984a1293a8c809d')\n",
    "    typ=request.form['type']\n",
    "    model_id ='ex_YCya9nrn'\n",
    "    print(type)\n",
    "    output = request.form['output']\n",
    "    print(output)\n",
    "    print(type(output))\n",
    "    if typ==\"text\":\n",
    "        output=re.sub(\"[^a-zA-Z.,]\",\" \",output)\n",
    "    print(output)\n",
    "   \n",
    "    \n",
    "    keywordresult = ml.extractors.extract(model_id,[output])\n",
    "    print(keywordresult.body)\n",
    "    a = keywordresult.body[0]\n",
    "    print (a)\n",
    "    print(type(a))\n",
    "    b = a['extractions']\n",
    "    print(b)\n",
    "    print(type(b))\n",
    "    \n",
    "    keywords = []\n",
    "    entities = []\n",
    "    \n",
    "    for i in b:\n",
    "        keywords.append(i['parsed_value'])\n",
    "        print (i['parsed_value'])\n",
    "        \n",
    "    print(keywords)\n",
    "   \n",
    "\n",
    "    \n",
    "    #return keyword\n",
    "    return render_template('keywords.html',keyword=keywords)\n",
    "\n",
    "    \n",
    "if __name__ == \"__main__\":\n",
    "    app.run(debug=False)"
   ]
  },
  {
   "cell_type": "code",
   "execution_count": null,
   "metadata": {},
   "outputs": [],
   "source": [
    "\n",
    "   "
   ]
  },
  {
   "cell_type": "code",
   "execution_count": null,
   "metadata": {},
   "outputs": [],
   "source": []
  },
  {
   "cell_type": "code",
   "execution_count": null,
   "metadata": {},
   "outputs": [],
   "source": []
  }
 ],
 "metadata": {
  "kernelspec": {
   "display_name": "Python 3",
   "language": "python",
   "name": "python3"
  },
  "language_info": {
   "codemirror_mode": {
    "name": "ipython",
    "version": 3
   },
   "file_extension": ".py",
   "mimetype": "text/x-python",
   "name": "python",
   "nbconvert_exporter": "python",
   "pygments_lexer": "ipython3",
   "version": "3.7.3"
  }
 },
 "nbformat": 4,
 "nbformat_minor": 2
}
